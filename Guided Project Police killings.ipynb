{
 "cells": [
  {
   "cell_type": "code",
   "execution_count": 1,
   "metadata": {
    "collapsed": true
   },
   "outputs": [
    {
     "name": "stdout",
     "output_type": "stream",
     "text": [
      "C:\\Users\\Christine\\AppData\\Local\\Programs\\Python\\Python35-32\\python.exe\nC:\\Users\\Christine\\PycharmProjects\\test\nC:\\Users\\Christine\\PycharmProjects\\test\n"
     ]
    }
   ],
   "source": [
    "import sys\n",
    "import os\n",
    "\n",
    "print(sys.executable)\n",
    "print(os.getcwd())\n",
    "os.chdir(\"C:\\\\Users\\\\Christine\\\\PycharmProjects\\\\test\\\\\")\n",
    "print(os.getcwd())"
   ]
  },
  {
   "cell_type": "code",
   "execution_count": 2,
   "metadata": {},
   "outputs": [
    {
     "name": "stdout",
     "output_type": "stream",
     "text": [
      "                 name age gender    raceethnicity     month  day  year  \\\n0  A'donte Washington  16   Male            Black  February   23  2015   \n1      Aaron Rutledge  27   Male            White     April    2  2015   \n2         Aaron Siler  26   Male            White     March   14  2015   \n3        Aaron Valdez  25   Male  Hispanic/Latino     March   11  2015   \n4        Adam Jovicic  29   Male            White     March   19  2015   \n\n            streetaddress          city state     ...      p_income  h_income  \\\n0            Clearview Ln     Millbrook    AL     ...         28375   51367.0   \n1  300 block Iris Park Dr     Pineville    LA     ...         14678   27972.0   \n2    22nd Ave and 56th St       Kenosha    WI     ...         25286   45365.0   \n3       3000 Seminole Ave    South Gate    CA     ...         17194   48295.0   \n4          364 Hiwood Ave  Munroe Falls    OH     ...         33954   68785.0   \n\n   county_income  comp_income  county_bucket  nat_bucket   pov     urate  \\\n0          54766     0.937936            3.0         3.0  14.1  0.097686   \n1          40930     0.683411            2.0         1.0  28.8  0.065724   \n2          54930     0.825869            2.0         3.0  14.6  0.166293   \n3          55909     0.863814            3.0         3.0  11.7  0.124827   \n4          49669     1.384868            5.0         4.0   1.9  0.063550   \n\n    college Unnamed: 34  \n0  0.168510         NaN  \n1  0.111402         NaN  \n2  0.147312         NaN  \n3  0.050133         NaN  \n4  0.403954         NaN  \n\n[5 rows x 35 columns]\n"
     ]
    }
   ],
   "source": [
    "import pandas as pd\n",
    "police_killings = pd.read_csv(\"police_killings.csv\", encoding = \"ISO-8859-1\")\n",
    "print(police_killings.head())"
   ]
  },
  {
   "cell_type": "code",
   "execution_count": 3,
   "metadata": {},
   "outputs": [
    {
     "name": "stdout",
     "output_type": "stream",
     "text": [
      "Index(['name', 'age', 'gender', 'raceethnicity', 'month', 'day', 'year',\n       'streetaddress', 'city', 'state', 'latitude', 'longitude', 'state_fp',\n       'county_fp', 'tract_ce', 'geo_id', 'county_id', 'namelsad',\n       'lawenforcementagency', 'cause', 'armed', 'pop', 'share_white',\n       'share_black', 'share_hispanic', 'p_income', 'h_income',\n       'county_income', 'comp_income', 'county_bucket', 'nat_bucket', 'pov',\n       'urate', 'college', 'Unnamed: 34'],\n      dtype='object')\n"
     ]
    }
   ],
   "source": [
    "print(police_killings.columns)"
   ]
  },
  {
   "cell_type": "code",
   "execution_count": 4,
   "metadata": {},
   "outputs": [
    {
     "name": "stdout",
     "output_type": "stream",
     "text": [
      "White                     236\nBlack                     135\nHispanic/Latino            67\nUnknown                    15\nAsian/Pacific Islander     10\nNative American             4\nName: raceethnicity, dtype: int64\n"
     ]
    }
   ],
   "source": [
    "print(police_killings[\"raceethnicity\"].value_counts())"
   ]
  },
  {
   "cell_type": "code",
   "execution_count": 5,
   "metadata": {},
   "outputs": [
    {
     "name": "stdout",
     "output_type": "stream",
     "text": [
      "Index(['White', 'Black', 'Hispanic/Latino', 'Unknown',\n       'Asian/Pacific Islander', 'Native American'],\n      dtype='object')\n"
     ]
    },
    {
     "data": {
      "image/png": "[encoded data removed]",
      "text/plain": [
       "<matplotlib.figure.Figure at 0x9665690>"
      ]
     },
     "metadata": {},
     "output_type": "display_data"
    }
   ],
   "source": [
    "import matplotlib.pyplot as plt\n",
    "import seaborn as sns\n",
    "\n",
    "%matplotlib inline\n",
    "\n",
    "counts = police_killings[\"raceethnicity\"].value_counts()\n",
    "print(counts.index)\n",
    "\n",
    "# plt.bar(location of bars, what to be shown)\n",
    "plt.bar(range(6), counts)\n",
    "# plt.xticks(location of ticks, labels of the ticks, rotation?, color)\n",
    "plt.xticks(range(6), counts.index, rotation=\"vertical\", color = \"white\")\n",
    "plt.yticks(color = \"white\")\n",
    "plt.show()"
   ]
  },
  {
   "cell_type": "markdown",
   "metadata": {},
   "source": [
    "Most of them are Whites. Then black. Does it has something to do with the percentage of each race in the US population?\n"
   ]
  },
  {
   "cell_type": "code",
   "execution_count": 6,
   "metadata": {},
   "outputs": [
    {
     "name": "stdout",
     "output_type": "stream",
     "text": [
      "White                     0.505353\nBlack                     0.289079\nHispanic/Latino           0.143469\nUnknown                   0.032120\nAsian/Pacific Islander    0.021413\nNative American           0.008565\nName: raceethnicity, dtype: float64\n"
     ]
    }
   ],
   "source": [
    "ethicity_ratio = counts/sum(counts)\n",
    "print(ethicity_ratio)"
   ]
  },
  {
   "cell_type": "markdown",
   "metadata": {},
   "source": [
    "Racial breakdown\n",
    "It looks like people identified as Black are far overrepresented in the shootings versus in the population of the US (28% vs 16%). You can see the breakdown of population by race on wikipedia.\n",
    "People identified as Hispanic appear to be killed about as often as random chance would account for (14% of the people killed as Hispanic, versus 17% of the overall population).\n",
    "Whites are underrepresented among shooting victims vs their population percentage, as are Asians."
   ]
  },
  {
   "cell_type": "code",
   "execution_count": 7,
   "metadata": {},
   "outputs": [
    {
     "data": {
      "text/plain": [
       "<matplotlib.text.Text at 0xa156cf0>"
      ]
     },
     "execution_count": 7,
     "metadata": {},
     "output_type": "execute_result"
    },
    {
     "data": {
      "image/png": "[encoded data removed]",
      "text/plain": [
       "<matplotlib.figure.Figure at 0xa0a36b0>"
      ]
     },
     "metadata": {},
     "output_type": "display_data"
    }
   ],
   "source": [
    "# with higher bins, you will get more bars. (granular result)\n",
    "police_killings[\"p_income\"][police_killings[\"p_income\"] != \"-\"].astype(int).hist(bins=25)\n",
    "plt.xticks(color =\"white\")\n",
    "plt.yticks(color =\"white\")\n",
    "plt.xlabel(\"dollars\", color = \"white\")\n",
    "plt.ylabel(\"counts\", color = \"white\")\n",
    "plt.title(\"median personal income by census area\", color = \"white\")"
   ]
  },
  {
   "cell_type": "markdown",
   "metadata": {},
   "source": [
    "Income breakdown\n",
    "According to the Census, median personal income in the US is 28,567, and our median is 22,348, which means that shootings tend to happen in less affluent areas. Our sample size is relatively small, though, so it's hard to make sweeping conclusions."
   ]
  },
  {
   "cell_type": "code",
   "execution_count": 8,
   "metadata": {},
   "outputs": [],
   "source": [
    "state_pop = pd.read_csv(\"population.csv\")"
   ]
  },
  {
   "cell_type": "code",
   "execution_count": 9,
   "metadata": {},
   "outputs": [],
   "source": [
    "count = police_killings[\"state_fp\"].value_counts()"
   ]
  },
  {
   "cell_type": "code",
   "execution_count": 10,
   "metadata": {},
   "outputs": [],
   "source": [
    "# Create a new Dataframe called states. One column should be called STATE, and will contain the index of counts. \n",
    "# The other column should be called shootings, and will contains the values from counts\n",
    "states = pd.DataFrame({\"STATE\": count.index, \"shooting\": count})"
   ]
  },
  {
   "cell_type": "code",
   "execution_count": 11,
   "metadata": {},
   "outputs": [],
   "source": [
    "# Use the merge() method to merge state_pop and states\n",
    "# Pass the on keyword argument, with the value set to STATE. \n",
    "# STATE is the common column that both states and state_pop share.\n",
    "states = states.merge(state_pop, on=\"STATE\")"
   ]
  },
  {
   "cell_type": "code",
   "execution_count": 13,
   "metadata": {},
   "outputs": [
    {
     "name": "stdout",
     "output_type": "stream",
     "text": [
      "    STATE  shooting  SUMLEV REGION DIVISION                  NAME  \\\n0       6        74      40      4        9            California   \n1      48        47      40      3        7                 Texas   \n2      12        29      40      3        5               Florida   \n3       4        25      40      4        8               Arizona   \n4      40        22      40      3        7              Oklahoma   \n5      13        16      40      3        5               Georgia   \n6      36        13      40      1        2              New York   \n7       8        12      40      4        8              Colorado   \n8      34        11      40      1        2            New Jersey   \n9      53        11      40      4        9            Washington   \n10     22        11      40      3        7             Louisiana   \n11     17        11      40      2        3              Illinois   \n12     39        10      40      2        3                  Ohio   \n13     29        10      40      2        4              Missouri   \n14     24        10      40      3        5              Maryland   \n15     37        10      40      3        5        North Carolina   \n16     26         9      40      2        3              Michigan   \n17     45         9      40      3        5        South Carolina   \n18     51         9      40      3        5              Virginia   \n19     41         8      40      4        9                Oregon   \n20     18         8      40      2        3               Indiana   \n21      1         8      40      3        6               Alabama   \n22     42         7      40      1        2          Pennsylvania   \n23     21         7      40      3        6              Kentucky   \n24     20         6      40      2        4                Kansas   \n25     27         6      40      2        4             Minnesota   \n26     28         6      40      3        6           Mississippi   \n27     31         6      40      2        4              Nebraska   \n28     47         6      40      3        6             Tennessee   \n29     25         5      40      1        1         Massachusetts   \n30     49         5      40      4        8                  Utah   \n31     55         5      40      2        3             Wisconsin   \n32     35         5      40      4        8            New Mexico   \n33     16         4      40      4        8                 Idaho   \n34     15         4      40      4        9                Hawaii   \n35      5         4      40      3        7              Arkansas   \n36     32         3      40      4        8                Nevada   \n37     30         2      40      4        8               Montana   \n38     19         2      40      2        4                  Iowa   \n39      2         2      40      4        9                Alaska   \n40     54         2      40      3        5         West Virginia   \n41     10         2      40      3        5              Delaware   \n42     33         1      40      1        1         New Hampshire   \n43      9         1      40      1        1           Connecticut   \n44     11         1      40      3        5  District of Columbia   \n45     23         1      40      1        1                 Maine   \n46     56         1      40      4        8               Wyoming   \n\n    POPESTIMATE2015  POPEST18PLUS2015  PCNT_POPEST18PLUS  pop_millions  \\\n0          39144818          30023902               76.7     39.144818   \n1          27469114          20257343               73.7     27.469114   \n2          20271272          16166143               79.7     20.271272   \n3           6828065           5205215               76.2      6.828065   \n4           3911338           2950017               75.4      3.911338   \n5          10214860           7710688               75.5     10.214860   \n6          19795791          15584974               78.7     19.795791   \n7           5456574           4199509               77.0      5.456574   \n8           8958013           6959192               77.7      8.958013   \n9           7170351           5558509               77.5      7.170351   \n10          4670724           3555911               76.1      4.670724   \n11         12859995           9901322               77.0     12.859995   \n12         11613423           8984946               77.4     11.613423   \n13          6083672           4692196               77.1      6.083672   \n14          6006401           4658175               77.6      6.006401   \n15         10042802           7752234               77.2     10.042802   \n16          9922576           7715272               77.8      9.922576   \n17          4896146           3804558               77.7      4.896146   \n18          8382993           6512571               77.7      8.382993   \n19          4028977           3166121               78.6      4.028977   \n20          6619680           5040224               76.1      6.619680   \n21          4858979           3755483               77.3      4.858979   \n22         12802503          10112229               79.0     12.802503   \n23          4425092           3413425               77.1      4.425092   \n24          2911641           2192084               75.3      2.911641   \n25          5489594           4205207               76.6      5.489594   \n26          2992333           2265485               75.7      2.992333   \n27          1896190           1425853               75.2      1.896190   \n28          6600299           5102688               77.3      6.600299   \n29          6794422           5407335               79.6      6.794422   \n30          2995919           2083423               69.5      2.995919   \n31          5771337           4476711               77.6      5.771337   \n32          2085109           1588201               76.2      2.085109   \n33          1654930           1222093               73.8      1.654930   \n34          1431603           1120770               78.3      1.431603   \n35          2978204           2272904               76.3      2.978204   \n36          2890845           2221681               76.9      2.890845   \n37          1032949            806529               78.1      1.032949   \n38          3123899           2395103               76.7      3.123899   \n39           738432            552166               74.8      0.738432   \n40          1844128           1464532               79.4      1.844128   \n41           945934            741548               78.4      0.945934   \n42          1330608           1066610               80.2      1.330608   \n43          3590886           2826827               78.7      3.590886   \n44           672228            554121               82.4      0.672228   \n45          1329328           1072948               80.7      1.329328   \n46           586107            447212               76.3      0.586107   \n\n        rate  \n0   1.890416  \n1   1.711013  \n2   1.430596  \n3   3.661359  \n4   5.624674  \n5   1.566346  \n6   0.656705  \n7   2.199182  \n8   1.227951  \n9   1.534095  \n10  2.355095  \n11  0.855366  \n12  0.861073  \n13  1.643744  \n14  1.664891  \n15  0.995738  \n16  0.907023  \n17  1.838180  \n18  1.073602  \n19  1.985616  \n20  1.208518  \n21  1.646436  \n22  0.546768  \n23  1.581888  \n24  2.060694  \n25  1.092977  \n26  2.005124  \n27  3.164240  \n28  0.909050  \n29  0.735898  \n30  1.668937  \n31  0.866350  \n32  2.397956  \n33  2.417021  \n34  2.794071  \n35  1.343091  \n36  1.037759  \n37  1.936204  \n38  0.640226  \n39  2.708442  \n40  1.084523  \n41  2.114312  \n42  0.751536  \n43  0.278483  \n44  1.487591  \n45  0.752260  \n46  1.706173  \n"
     ]
    }
   ],
   "source": [
    "states[\"pop_millions\"] = states[\"POPESTIMATE2015\"] / 1000000\n",
    "states[\"rate\"] = states[\"shooting\"]/states[\"pop_millions\"]\n",
    "\n",
    "states.sort_values(by=\"rate\")\n",
    "print(states)"
   ]
  },
  {
   "cell_type": "markdown",
   "metadata": {},
   "source": [
    "\n",
    "Killings by state\n",
    "States in the midwest and south seem to have the highest police killing rates, whereas those in the northeast seem to have the lowest"
   ]
  },
  {
   "cell_type": "code",
   "execution_count": 56,
   "metadata": {},
   "outputs": [
    {
     "name": "stderr",
     "output_type": "stream",
     "text": [
      "C:\\Users\\Christine\\AppData\\Local\\Programs\\Python\\Python35-32\\lib\\site-packages\\ipykernel\\__main__.py:5: SettingWithCopyWarning: \nA value is trying to be set on a copy of a slice from a DataFrame.\nTry using .loc[row_indexer,col_indexer] = value instead\n\nSee the caveats in the documentation: http://pandas.pydata.org/pandas-docs/stable/indexing.html#indexing-view-versus-copy\nC:\\Users\\Christine\\AppData\\Local\\Programs\\Python\\Python35-32\\lib\\site-packages\\ipykernel\\__main__.py:6: SettingWithCopyWarning: \nA value is trying to be set on a copy of a slice from a DataFrame.\nTry using .loc[row_indexer,col_indexer] = value instead\n\nSee the caveats in the documentation: http://pandas.pydata.org/pandas-docs/stable/indexing.html#indexing-view-versus-copy\nC:\\Users\\Christine\\AppData\\Local\\Programs\\Python\\Python35-32\\lib\\site-packages\\ipykernel\\__main__.py:7: SettingWithCopyWarning: \nA value is trying to be set on a copy of a slice from a DataFrame.\nTry using .loc[row_indexer,col_indexer] = value instead\n\nSee the caveats in the documentation: http://pandas.pydata.org/pandas-docs/stable/indexing.html#indexing-view-versus-copy\n"
     ]
    }
   ],
   "source": [
    "pk = police_killings[(police_killings[\"share_white\"] != \"-\") & (police_killings[\"share_black\"] != \"-\") & \n",
    "    (police_killings[\"share_hispanic\"] != \"-\")]\n",
    "\n",
    "\n",
    "pk[\"share_white\"] = pk[\"share_white\"].astype(float)\n",
    "pk[\"share_black\"] = pk[\"share_black\"].astype(float)\n",
    "pk[\"share_hispanic\"] = pk[\"share_hispanic\"].astype(float)"
   ]
  },
  {
   "cell_type": "code",
   "execution_count": 58,
   "metadata": {},
   "outputs": [
    {
     "data": {
      "text/plain": [
       "CA    74\nTX    46\nFL    29\nAZ    25\nOK    22\nGA    16\nNY    14\nCO    12\nLA    11\nNJ    11\nWA    11\nIL    11\nNC    10\nMO    10\nMD    10\nOH    10\nVA     9\nSC     9\nMI     9\nIN     8\nOR     8\nAL     8\nPA     7\nKY     7\nNE     6\nMN     6\nMS     6\nKS     6\nTN     6\nUT     5\nMA     5\nWI     5\nNM     5\nHI     4\nID     4\nAR     4\nNV     3\nMT     2\nWV     2\nAK     2\nIA     2\nDE     2\nCT     1\nNH     1\nWY     1\nDC     1\nME     1\nName: state, dtype: int64"
      ]
     },
     "execution_count": 58,
     "metadata": {},
     "output_type": "execute_result"
    }
   ],
   "source": [
    "police_killings[\"state\"].value_counts()"
   ]
  },
  {
   "cell_type": "code",
   "execution_count": 60,
   "metadata": {},
   "outputs": [],
   "source": [
    "lowest_states = [\"CT\", \"PA\", \"IA\", \"NY\", \"MA\", \"NH\", \"ME\", \"IL\", \"OH\", \"WI\"]\n",
    "highest_states = [\"OK\", \"AZ\", \"NE\", \"HI\", \"AK\", \"ID\", \"NM\", \"LA\", \"CO\", \"DE\"]\n",
    "\n",
    "# use isin() to only select rows from police_killings where the state column is in the list.\n",
    "ls = pk[pk[\"state\"].isin(lowest_states)]\n",
    "hs = pk[pk[\"state\"].isin(highest_states)]"
   ]
  },
  {
   "cell_type": "code",
   "execution_count": 65,
   "metadata": {},
   "outputs": [
    {
     "name": "stdout",
     "output_type": "stream",
     "text": [
      "pop                4201.660714\ncounty_income     54830.839286\nshare_white          60.616071\nshare_black          21.257143\nshare_hispanic       12.948214\ndtype: float64\npop                4315.750000\ncounty_income     48706.967391\nshare_white          55.652174\nshare_black          11.532609\nshare_hispanic       20.693478\ndtype: float64\n"
     ]
    }
   ],
   "source": [
    "columns = [\"pop\", \"county_income\", \"share_white\", \"share_black\", \"share_hispanic\"]\n",
    "\n",
    "print(ls[columns].mean())\n",
    "print(hs[columns].mean())"
   ]
  },
  {
   "cell_type": "markdown",
   "metadata": {},
   "source": [
    "\n",
    "State by state rates\n",
    "\n",
    "It looks like the states with low rates of shootings tend to have a higher proportion of blacks in the population, and a lower proportion of hispanics in the census regions where the shootings occur. It looks like the income of the counties where the shootings occur is higher.\n",
    "States with high rates of shootings tend to have high hispanic population shares in the counties where shootings occur."
   ]
  },
  {
   "cell_type": "code",
   "execution_count": null,
   "metadata": {},
   "outputs": [],
   "source": [
    ""
   ]
  }
 ],
 "metadata": {
  "kernelspec": {
   "display_name": "Python 2",
   "language": "python",
   "name": "python2"
  },
  "language_info": {
   "codemirror_mode": {
    "name": "ipython",
    "version": 2.0
   },
   "file_extension": ".py",
   "mimetype": "text/x-python",
   "name": "python",
   "nbconvert_exporter": "python",
   "pygments_lexer": "ipython2",
   "version": "2.7.6"
  }
 },
 "nbformat": 4,
 "nbformat_minor": 0
}