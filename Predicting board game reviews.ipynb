{
 "cells": [
  {
   "cell_type": "code",
   "execution_count": 1,
   "metadata": {
    "collapsed": true
   },
   "outputs": [
    {
     "name": "stdout",
     "output_type": "stream",
     "text": [
      "       id       type                                       name  \\\n0   12333  boardgame                          Twilight Struggle   \n1  120677  boardgame                              Terra Mystica   \n2  102794  boardgame                  Caverna: The Cave Farmers   \n3   25613  boardgame  Through the Ages: A Story of Civilization   \n4    3076  boardgame                                Puerto Rico   \n\n   yearpublished  minplayers  maxplayers  playingtime  minplaytime  \\\n0         2005.0         2.0         2.0        180.0        180.0   \n1         2012.0         2.0         5.0        150.0         60.0   \n2         2013.0         1.0         7.0        210.0         30.0   \n3         2006.0         2.0         4.0        240.0        240.0   \n4         2002.0         2.0         5.0        150.0         90.0   \n\n   maxplaytime  minage  users_rated  average_rating  bayes_average_rating  \\\n0        180.0    13.0        20113         8.33774               8.22186   \n1        150.0    12.0        14383         8.28798               8.14232   \n2        210.0    12.0         9262         8.28994               8.06886   \n3        240.0    12.0        13294         8.20407               8.05804   \n4        150.0    12.0        39883         8.14261               8.04524   \n\n   total_owners  total_traders  total_wanters  total_wishers  total_comments  \\\n0         26647            372           1219           5865            5347   \n1         16519            132           1586           6277            2526   \n2         12230             99           1476           5600            1700   \n3         14343            362           1084           5075            3378   \n4         44362            795            861           5414            9173   \n\n   total_weights  average_weight  \n0           2562          3.4785  \n1           1423          3.8939  \n2            777          3.7761  \n3           1642          4.1590  \n4           5213          3.2943  \n"
     ]
    }
   ],
   "source": [
    "# Board Game Reviews\n",
    "# predict average_rating using the other columns\n",
    "import pandas\n",
    "# Read board_games.csv into a Dataframe called board_games using the Pandas library.\n",
    "board_games = pandas.read_csv(\"board_games.csv\")\n",
    "# Print out the first few rows of board_games and look closely at the data.\n",
    "print(board_games.head())"
   ]
  },
  {
   "cell_type": "code",
   "execution_count": 2,
   "metadata": {},
   "outputs": [],
   "source": [
    "# Use the dropna Dataframe method with the axis argument set to 0 to \n",
    "# remove any rows that contain missing values.\n",
    "# NOTICE: board_games doesn't change. need to return back to itself\n",
    "board_games = board_games.dropna(axis=0)\n",
    "# Remove any rows in board_games where users_rated equals 0. \n",
    "# This will remove any rows that have no reviews.\n",
    "board_games = board_games[board_games[\"users_rated\"] > 0]\n",
    "# board_games.to_csv(\"board_games_output.cvs\")"
   ]
  },
  {
   "cell_type": "markdown",
   "metadata": {},
   "source": [
    "# Picking An Error Metric\n",
    "I want to predict the average_rating column using the other columns, \n",
    "but I'll need to do some data exploration before I'm ready to do so.\n",
    "It will help me understand the distribution of average_rating better, \n",
    "as well as select an error metric that \n",
    "I'll use to evaluate the performance of your machine learning model.\n"
   ]
  },
  {
   "cell_type": "code",
   "execution_count": 3,
   "metadata": {},
   "outputs": [
    {
     "data": {
      "image/png": "[encoded data removed]",
      "text/plain": [
       "<matplotlib.figure.Figure at 0x67e34b0>"
      ]
     },
     "metadata": {},
     "output_type": "display_data"
    }
   ],
   "source": [
    "# Create a histogram of the average_rating column using the hist function.\n",
    "import matplotlib.pyplot as plt\n",
    "plt.hist(board_games[\"average_rating\"])\n",
    "plt.show()"
   ]
  },
  {
   "cell_type": "code",
   "execution_count": 4,
   "metadata": {},
   "outputs": [
    {
     "name": "stdout",
     "output_type": "stream",
     "text": [
      "1.57881605958\n"
     ]
    }
   ],
   "source": [
    "# Calculate the standard deviation of the average_rating column and print it out.\n",
    "import numpy\n",
    "print(numpy.std(board_games[\"average_rating\"]))"
   ]
  },
  {
   "cell_type": "code",
   "execution_count": 5,
   "metadata": {},
   "outputs": [
    {
     "name": "stdout",
     "output_type": "stream",
     "text": [
      "6.01611284933\n"
     ]
    }
   ],
   "source": [
    "# Calculate the mean of the average_rating column and print it out.\n",
    "print(numpy.mean(board_games[\"average_rating\"]))"
   ]
  },
  {
   "cell_type": "markdown",
   "metadata": {},
   "source": [
    "# Error metric\n",
    "In this data set, using mean squared error as an error metric makes sense. This is because the data is continuous, and follows a somewhat normal distribution. We'll be able to compare our \n",
    "error to the standard deviation to see how good the model is at predictions."
   ]
  },
  {
   "cell_type": "markdown",
   "metadata": {},
   "source": [
    "# Plotting Clusters\n",
    "I want to look at the data for patterns that may help me develop a machine learning model. \n",
    "One way to look for patterns is to use a clustering algorithm to create clusters, \n",
    "then plot them out.\n",
    "\n",
    "First fit a KMeans class from the scikit-learn library. The KMeans class only works with numeric columns, so I have to extract the numeric columns of board_games before passing them into the fit method of the KMeans class.\n",
    "\n",
    "To plot out the cluster assignment, I first find the mean and standard deviation of each row, then make a scatterplot for mean vs standard deviation, then shade the points according to their cluster assignment.\n"
   ]
  },
  {
   "cell_type": "code",
   "execution_count": 6,
   "metadata": {},
   "outputs": [],
   "source": [
    "# Initialize the KMeans class with 5 clusters\n",
    "from sklearn.cluster import KMeans\n",
    "kmeans_model = KMeans(n_clusters=5)"
   ]
  },
  {
   "cell_type": "code",
   "execution_count": 7,
   "metadata": {},
   "outputs": [
    {
     "name": "stdout",
     "output_type": "stream",
     "text": [
      "['yearpublished', 'minplayers', 'maxplayers', 'playingtime', 'minplaytime', 'maxplaytime', 'minage', 'users_rated', 'average_rating', 'bayes_average_rating', 'total_owners', 'total_traders', 'total_wanters', 'total_wishers', 'total_comments', 'total_weights', 'average_weight']\n"
     ]
    }
   ],
   "source": [
    "# Extract the numeric columns of board_games, and assign to the variable numeric_columns.\n",
    "cols = list(board_games.columns)\n",
    "cols.remove(\"name\")\n",
    "cols.remove(\"id\")\n",
    "cols.remove(\"type\")\n",
    "numeric_columns = board_games[cols]\n",
    "print(cols)\n",
    "# Another way: numeric_columns = board_games.iloc[:, 4:]"
   ]
  },
  {
   "cell_type": "code",
   "execution_count": 8,
   "metadata": {},
   "outputs": [],
   "source": [
    "# Fit the KMeans class to numeric_columns using the fit method\n",
    "# kmeans_model changes itself. no need to assign to itself.\n",
    "kmeans_model.fit_transform(numeric_columns)\n",
    "# print(result)\n",
    "# fit_transform() = fit() + return distance data (ND array of ND array)\n",
    "\n",
    "# result2 = kmeans_model.fit(numeric_columns)\n",
    "# print(result2)\n",
    "\n",
    "# Extract the labels_ attribute of the KMeans class, and assign to the variable labels\n",
    "labels = kmeans_model.labels_"
   ]
  },
  {
   "cell_type": "code",
   "execution_count": 9,
   "metadata": {},
   "outputs": [
    {
     "name": "stdout",
     "output_type": "stream",
     "text": [
      "0    3806.296359\n1    2662.195541\n2    1979.243229\n3    2467.201242\n4    6360.675421\ndtype: float64\n"
     ]
    }
   ],
   "source": [
    "# Plot out the cluster assignments.\n",
    "# Use the apply method on numeric_columns with the keyword argument axis set to 1 \n",
    "# to find the mean of each row.\n",
    "game_mean = numeric_columns.apply(numpy.mean, axis=1)\n",
    "print(game_mean[:5])"
   ]
  },
  {
   "cell_type": "code",
   "execution_count": 10,
   "metadata": {},
   "outputs": [
    {
     "name": "stdout",
     "output_type": "stream",
     "text": [
      "0     7450.209585\n1     4933.084135\n2     3514.218155\n3     4367.915199\n4    13321.625345\ndtype: float64\n"
     ]
    }
   ],
   "source": [
    "# Use the apply method on numeric_columns with the keyword argument axis set to 1 to \n",
    "# find the standard deviation of each row. \n",
    "game_std = numeric_columns.apply(numpy.std, axis=1)\n",
    "print(game_std[:5])"
   ]
  },
  {
   "cell_type": "code",
   "execution_count": 11,
   "metadata": {},
   "outputs": [
    {
     "data": {
      "image/png": "[encoded data removed]",
      "text/plain": [
       "<matplotlib.figure.Figure at 0xcc21570>"
      ]
     },
     "metadata": {},
     "output_type": "display_data"
    }
   ],
   "source": [
    "plt.scatter(x=game_mean, y=game_std, c=labels)\n",
    "plt.show()"
   ]
  },
  {
   "cell_type": "markdown",
   "metadata": {},
   "source": [
    "# Game clusters\n",
    "It looks like most of the games are similar, but as the game attributes tend to increase in value (such as number of users who rated), there are fewer high quality games. So most games don't get played much, but a few get a lot of players."
   ]
  },
  {
   "cell_type": "code",
   "execution_count": 12,
   "metadata": {},
   "outputs": [
    {
     "name": "stdout",
     "output_type": "stream",
     "text": [
      "               yearpublished  minplayers  maxplayers  playingtime  \\\nyearpublished       1.000000    0.004308    0.004977     0.006235   \nminplayers          0.004308    1.000000    0.037155     0.024320   \nmaxplayers          0.004977    0.037155    1.000000    -0.001020   \nplayingtime         0.006235    0.024320   -0.001020     1.000000   \nminplaytime         0.005245    0.026569   -0.000950     0.967909   \n\n               minplaytime  maxplaytime    minage  users_rated  \\\nyearpublished     0.005245     0.006235  0.125281     0.037454   \nminplayers        0.026569     0.024320  0.110886     0.020364   \nmaxplayers       -0.000950    -0.001020  0.004508    -0.000858   \nplayingtime       0.967909     1.000000  0.053471     0.010908   \nminplaytime       1.000000     0.967909  0.052454     0.005502   \n\n               average_rating  bayes_average_rating  total_owners  \\\nyearpublished        0.108461              0.140998      0.047740   \nminplayers          -0.032701              0.034915      0.014594   \nmaxplayers          -0.008335             -0.003437     -0.000977   \nplayingtime          0.048994              0.045341      0.014532   \nminplaytime          0.043985              0.041845      0.008975   \n\n               total_traders  total_wanters  total_wishers  total_comments  \\\nyearpublished       0.064403       0.062289       0.052534        0.043818   \nminplayers          0.024708      -0.008654      -0.003786        0.023033   \nmaxplayers         -0.002381      -0.003585      -0.002499       -0.001502   \nplayingtime         0.019264       0.024289       0.020296        0.016890   \nminplaytime         0.014484       0.017491       0.012737        0.010046   \n\n               total_weights  average_weight  \nyearpublished       0.036226        0.125318  \nminplayers          0.019061       -0.021892  \nmaxplayers         -0.001457       -0.013448  \nplayingtime         0.017789        0.090895  \nminplaytime         0.010172        0.084405  \n"
     ]
    }
   ],
   "source": [
    "# Finding Correlations\n",
    "# figure out which columns correlate well with average_rating\n",
    "# This will enable you to remove columns that don't add much predictive power to the model.\n",
    "\"\"\"\n",
    "Columns that are uncorrelated with the target won't help a linear regression model, which is what you'll be using. \n",
    "It will also enable you to remove columns that are derived from the target, or otherwise cause overfitting.\n",
    "\"\"\"\n",
    "# Use the corr method on numeric_columns to compute correlations between columns.\n",
    "correlations = numeric_columns.corr(method=\"pearson\")\n",
    "print(correlations[:5])"
   ]
  },
  {
   "cell_type": "code",
   "execution_count": 13,
   "metadata": {},
   "outputs": [
    {
     "name": "stdout",
     "output_type": "stream",
     "text": [
      "yearpublished           0.108461\nminplayers             -0.032701\nmaxplayers             -0.008335\nplayingtime             0.048994\nminplaytime             0.043985\nmaxplaytime             0.048994\nminage                  0.210049\nusers_rated             0.112564\naverage_rating          1.000000\nbayes_average_rating    0.231563\ntotal_owners            0.137478\ntotal_traders           0.119452\ntotal_wanters           0.196566\ntotal_wishers           0.171375\ntotal_comments          0.123714\ntotal_weights           0.109691\naverage_weight          0.351081\nName: average_rating, dtype: float64\n"
     ]
    }
   ],
   "source": [
    "# Print out the average_rating column of correlations. \n",
    "# This shows how much each column in numeric_columns is correlated with average_rating.\n",
    "print(correlations[\"average_rating\"])"
   ]
  },
  {
   "cell_type": "markdown",
   "metadata": {},
   "source": [
    "# Correlations\n",
    "The yearpublished column is surprisingly highly correlated with average_rating, showing that more recent games tend to be rated more highly. Games for older players (minage is high) tend to be more highly rated. The more \"weighty\" a game is (average_weight is high), the more highly it tends to be rated."
   ]
  },
  {
   "cell_type": "code",
   "execution_count": 14,
   "metadata": {},
   "outputs": [],
   "source": [
    "# remove bayes_average_rating, which appears to be somehow calculated from average_rating, \n",
    "# and would cause the model to overfit.\n",
    "cols.remove(\"average_rating\")\n",
    "cols.remove(\"bayes_average_rating\")"
   ]
  },
  {
   "cell_type": "code",
   "execution_count": 16,
   "metadata": {},
   "outputs": [],
   "source": [
    "# Creating A Model\n",
    "# create a linear regression model and make predictions for newly created board games\n",
    "from sklearn.linear_model import LinearRegression\n",
    "# Initialize a LinearRegression model\n",
    "reg = LinearRegression()\n",
    "# Use the fit method on reg to fit the model\n",
    "reg.fit(board_games[cols], board_games[\"average_rating\"])\n",
    "# Use the predict method to make predictions\n",
    "predictions = reg.predict(board_games[cols])"
   ]
  },
  {
   "cell_type": "code",
   "execution_count": 18,
   "metadata": {},
   "outputs": [
    {
     "name": "stdout",
     "output_type": "stream",
     "text": [
      "2.09339697583\n"
     ]
    }
   ],
   "source": [
    "# Calculate the error metric\n",
    "error = numpy.mean((predictions-board_games[\"average_rating\"])** 2)\n",
    "print(error)"
   ]
  },
  {
   "cell_type": "markdown",
   "metadata": {},
   "source": [
    "# Game clusters\n",
    "The error rate is close to the standard deviation of all board game ratings. This indicates that our model may not have high predictive power. We'll need to dig more into which games were scored well, and which ones weren't."
   ]
  }
 ],
 "metadata": {
  "kernelspec": {
   "display_name": "Python 2",
   "language": "python",
   "name": "python2"
  },
  "language_info": {
   "codemirror_mode": {
    "name": "ipython",
    "version": 2.0
   },
   "file_extension": ".py",
   "mimetype": "text/x-python",
   "name": "python",
   "nbconvert_exporter": "python",
   "pygments_lexer": "ipython2",
   "version": "2.7.6"
  }
 },
 "nbformat": 4,
 "nbformat_minor": 0
}